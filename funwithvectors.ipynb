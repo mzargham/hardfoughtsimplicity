{
 "cells": [
  {
   "cell_type": "code",
   "execution_count": 1,
   "metadata": {},
   "outputs": [],
   "source": [
    "import numpy as np\n",
    "import pandas as pd\n",
    "import matplotlib.pyplot as plt"
   ]
  },
  {
   "cell_type": "markdown",
   "metadata": {},
   "source": [
    "This is a Simple explainer for how capital and contributions relate\n",
    "\n",
    "Here is the summary of the prodecure\n",
    "- a group of members pool capital\n",
    "- and agree to collectively contribute labor to allocate that capital\n",
    "- let the initial distribution of equity $s_0$ be determined by the capital contributed\n",
    "  - each member has their own quantity of equity $s_0[i]$\n",
    "  - if the total number of shares is $S_0 = \\sum_i s_0[i]$\n",
    "  - then denote each members initial equity share $x_0[i] = \\frac{s_0[i]}{S_0}$\n",
    "  - therefore $\\sum x_0[i] = 1$\n",
    "- supposed that for a given Season members contribute to managing the capital\n",
    "- let the season 1 contributions scoring be based on some agreed upon policy\n",
    "- at the close of season 1 there is a contribution vector $c_1$\n",
    "  - each member has their own contribution value $c_1[i]$\n",
    "  - the total quantity of contributions is $C_1 = \\sum_i c_1[i]$\n",
    "  - then denote each members contribution share $y_1[i] = \\frac{c_1[i]}{C_1}$\n",
    "  - therefore $\\sum y_1[i] =1 $\n",
    "- the membership reserves the right to vote to modify its equity allocation according rules other than pro-rata assignment of new shares.\n",
    "- the membership wishes the equity allocation to \"drift toward\" the contribution vector (slowly)\n",
    "- the membership agrees that the drift rate should be characterized by a parameter $\\epsilon$\n",
    "- at end of season 1 the following proposal having the following effect should be put forth and ratified\n",
    "  - the vector direction shifts as $x_1 = (1-\\epsilon)\\cdot x_0 + \\epsilon \\cdot y_1$\n",
    "  - by linearity, individuals experience $x_1[i] = (1-\\epsilon)\\cdot x_0[i] + \\epsilon \\cdot y_1[i]$\n",
    "\n",
    "this is a simplified model to demonstrate the effects of the drift policy, while in practice, we expect\n",
    "- members to be able to rage quit during the period of the proposal\n",
    "- members who do ragequit to be subject to payout schedules and payout penalties\n",
    "\n",
    "the drift mechanism can be composed with rules for adding adding removing capital, in a predictable way due to its simplicity."
   ]
  },
  {
   "cell_type": "code",
   "execution_count": 2,
   "metadata": {},
   "outputs": [],
   "source": [
    "n=10\n",
    "#generate tailed distribution of initial equity\n",
    "s = np.exp(10*np.random.random_sample(n))"
   ]
  },
  {
   "cell_type": "code",
   "execution_count": 3,
   "metadata": {},
   "outputs": [],
   "source": [
    "#compute the total\n",
    "S = sum(s)"
   ]
  },
  {
   "cell_type": "code",
   "execution_count": 4,
   "metadata": {},
   "outputs": [
    {
     "data": {
      "text/plain": [
       "(array([7., 0., 1., 1., 0., 0., 0., 0., 0., 1.]),\n",
       " array([1.05050593e+00, 1.33717695e+03, 2.67330339e+03, 4.00942983e+03,\n",
       "        5.34555627e+03, 6.68168271e+03, 8.01780915e+03, 9.35393559e+03,\n",
       "        1.06900620e+04, 1.20261885e+04, 1.33623149e+04]),\n",
       " <BarContainer object of 10 artists>)"
      ]
     },
     "execution_count": 4,
     "metadata": {},
     "output_type": "execute_result"
    },
    {
     "data": {
      "image/png": "[encoded data removed]",
      "text/plain": [
       "<Figure size 432x288 with 1 Axes>"
      ]
     },
     "metadata": {
      "needs_background": "light"
     },
     "output_type": "display_data"
    }
   ],
   "source": [
    "#histogram view\n",
    "plt.hist(s)"
   ]
  },
  {
   "cell_type": "code",
   "execution_count": 5,
   "metadata": {},
   "outputs": [],
   "source": [
    "#computer the fraction of the total each has\n",
    "x = s/S"
   ]
  },
  {
   "cell_type": "code",
   "execution_count": 6,
   "metadata": {},
   "outputs": [
    {
     "data": {
      "text/plain": [
       "([<matplotlib.patches.Wedge at 0x7f8b702d2c20>,\n",
       "  <matplotlib.patches.Wedge at 0x7f8b702d3100>,\n",
       "  <matplotlib.patches.Wedge at 0x7f8b702d35e0>,\n",
       "  <matplotlib.patches.Wedge at 0x7f8b702d3ac0>,\n",
       "  <matplotlib.patches.Wedge at 0x7f8b702d3fa0>,\n",
       "  <matplotlib.patches.Wedge at 0x7f8b7030c4c0>,\n",
       "  <matplotlib.patches.Wedge at 0x7f8b7030c9a0>,\n",
       "  <matplotlib.patches.Wedge at 0x7f8b7030ce80>,\n",
       "  <matplotlib.patches.Wedge at 0x7f8b7030d360>,\n",
       "  <matplotlib.patches.Wedge at 0x7f8b7030d840>],\n",
       " [Text(1.0999998438549088, 0.0005861050898981632, ''),\n",
       "  Text(1.0999991410479346, 0.0013746613423689178, ''),\n",
       "  Text(0.8612519626523427, 0.6842843391657358, ''),\n",
       "  Text(0.24966351720303248, 1.0712927369201246, ''),\n",
       "  Text(0.24889262526201458, 1.0714721000054936, ''),\n",
       "  Text(0.1232697788196029, 1.0930711603686956, ''),\n",
       "  Text(-0.46319405204049885, 0.9977230428101297, ''),\n",
       "  Text(-0.8386151402298115, 0.7118459430082703, ''),\n",
       "  Text(-0.8395073867835356, 0.7107934633463361, ''),\n",
       "  Text(-0.37843345330689193, -1.0328543563437298, '')])"
      ]
     },
     "execution_count": 6,
     "metadata": {},
     "output_type": "execute_result"
    },
    {
     "data": {
      "image/png": "[encoded data removed]",
      "text/plain": [
       "<Figure size 432x288 with 1 Axes>"
      ]
     },
     "metadata": {},
     "output_type": "display_data"
    }
   ],
   "source": [
    "plt.pie(x)"
   ]
  },
  {
   "cell_type": "code",
   "execution_count": 7,
   "metadata": {},
   "outputs": [],
   "source": [
    "#to make this clear lets assume all members repeated contribute equally during each season (yeah right)\n",
    "c = np.ones(n)"
   ]
  },
  {
   "cell_type": "code",
   "execution_count": 8,
   "metadata": {},
   "outputs": [
    {
     "data": {
      "text/plain": [
       "array([1., 1., 1., 1., 1., 1., 1., 1., 1., 1.])"
      ]
     },
     "execution_count": 8,
     "metadata": {},
     "output_type": "execute_result"
    }
   ],
   "source": [
    "c"
   ]
  },
  {
   "cell_type": "code",
   "execution_count": 9,
   "metadata": {},
   "outputs": [],
   "source": [
    "y = c/sum(c)"
   ]
  },
  {
   "cell_type": "code",
   "execution_count": 10,
   "metadata": {},
   "outputs": [
    {
     "data": {
      "text/plain": [
       "([<matplotlib.patches.Wedge at 0x7f8b30b53df0>,\n",
       "  <matplotlib.patches.Wedge at 0x7f8b30b84310>,\n",
       "  <matplotlib.patches.Wedge at 0x7f8b30b847f0>,\n",
       "  <matplotlib.patches.Wedge at 0x7f8b30b84cd0>,\n",
       "  <matplotlib.patches.Wedge at 0x7f8b30b851b0>,\n",
       "  <matplotlib.patches.Wedge at 0x7f8b30b85690>,\n",
       "  <matplotlib.patches.Wedge at 0x7f8b30b85b70>,\n",
       "  <matplotlib.patches.Wedge at 0x7f8b30b86050>,\n",
       "  <matplotlib.patches.Wedge at 0x7f8b30b86530>,\n",
       "  <matplotlib.patches.Wedge at 0x7f8b30b86a10>],\n",
       " [Text(1.0461621663333946, 0.3399186987098808, ''),\n",
       "  Text(0.6465637650236904, 0.8899187028927925, ''),\n",
       "  Text(-2.5747358111484753e-08, 1.0999999999999999, ''),\n",
       "  Text(-0.6465638066837905, 0.8899186726249574, ''),\n",
       "  Text(-1.0461621822461362, 0.3399186497354951, ''),\n",
       "  Text(-1.0461621504206509, -0.33991874768426583, ''),\n",
       "  Text(-0.6465637233635886, -0.8899187331606258, ''),\n",
       "  Text(7.724207457870329e-08, -1.0999999999999974, ''),\n",
       "  Text(0.6465638483438898, -0.88991864235712, ''),\n",
       "  Text(1.0461621981588756, -0.33991860076110864, '')])"
      ]
     },
     "execution_count": 10,
     "metadata": {},
     "output_type": "execute_result"
    },
    {
     "data": {
      "image/png": "[encoded data removed]",
      "text/plain": [
       "<Figure size 432x288 with 1 Axes>"
      ]
     },
     "metadata": {},
     "output_type": "display_data"
    }
   ],
   "source": [
    "plt.pie(y)"
   ]
  },
  {
   "cell_type": "code",
   "execution_count": 17,
   "metadata": {},
   "outputs": [],
   "source": [
    "#consider a drift rate of 200 basis point (2%) per season\n",
    "eps = .02\n",
    "\n",
    "#this is set on the higher side so we can see the impact of the policy"
   ]
  },
  {
   "cell_type": "code",
   "execution_count": 18,
   "metadata": {},
   "outputs": [],
   "source": [
    "#consider 25 seasons of even contribution\n",
    "T = 25\n",
    "\n",
    "X = np.zeros((n,T+1))\n",
    "X[:,0] = x\n",
    "\n",
    "for t in range(1,T+1):\n",
    "    X[:,t] = X[:,t-1]*(1-eps)+ y*eps  "
   ]
  },
  {
   "cell_type": "code",
   "execution_count": 19,
   "metadata": {},
   "outputs": [],
   "source": [
    "df = pd.DataFrame(X.T, columns = [\"Member\"+str(i+1) for i in range(n)])"
   ]
  },
  {
   "cell_type": "code",
   "execution_count": 20,
   "metadata": {},
   "outputs": [
    {
     "data": {
      "text/html": [
       "<div>\n",
       "<style scoped>\n",
       "    .dataframe tbody tr th:only-of-type {\n",
       "        vertical-align: middle;\n",
       "    }\n",
       "\n",
       "    .dataframe tbody tr th {\n",
       "        vertical-align: top;\n",
       "    }\n",
       "\n",
       "    .dataframe thead th {\n",
       "        text-align: right;\n",
       "    }\n",
       "</style>\n",
       "<table border=\"1\" class=\"dataframe\">\n",
       "  <thead>\n",
       "    <tr style=\"text-align: right;\">\n",
       "      <th></th>\n",
       "      <th>Member1</th>\n",
       "      <th>Member2</th>\n",
       "      <th>Member3</th>\n",
       "      <th>Member4</th>\n",
       "      <th>Member5</th>\n",
       "      <th>Member6</th>\n",
       "      <th>Member7</th>\n",
       "      <th>Member8</th>\n",
       "      <th>Member9</th>\n",
       "      <th>Member10</th>\n",
       "    </tr>\n",
       "  </thead>\n",
       "  <tbody>\n",
       "    <tr>\n",
       "      <th>0</th>\n",
       "      <td>0.000170</td>\n",
       "      <td>0.000059</td>\n",
       "      <td>0.213254</td>\n",
       "      <td>0.000154</td>\n",
       "      <td>0.000075</td>\n",
       "      <td>0.036831</td>\n",
       "      <td>0.137266</td>\n",
       "      <td>0.000351</td>\n",
       "      <td>0.000048</td>\n",
       "      <td>0.611792</td>\n",
       "    </tr>\n",
       "    <tr>\n",
       "      <th>1</th>\n",
       "      <td>0.002166</td>\n",
       "      <td>0.002057</td>\n",
       "      <td>0.210989</td>\n",
       "      <td>0.002151</td>\n",
       "      <td>0.002074</td>\n",
       "      <td>0.038094</td>\n",
       "      <td>0.136521</td>\n",
       "      <td>0.002344</td>\n",
       "      <td>0.002047</td>\n",
       "      <td>0.601556</td>\n",
       "    </tr>\n",
       "    <tr>\n",
       "      <th>2</th>\n",
       "      <td>0.004123</td>\n",
       "      <td>0.004016</td>\n",
       "      <td>0.208770</td>\n",
       "      <td>0.004108</td>\n",
       "      <td>0.004032</td>\n",
       "      <td>0.039332</td>\n",
       "      <td>0.135790</td>\n",
       "      <td>0.004297</td>\n",
       "      <td>0.004006</td>\n",
       "      <td>0.591525</td>\n",
       "    </tr>\n",
       "    <tr>\n",
       "      <th>3</th>\n",
       "      <td>0.006040</td>\n",
       "      <td>0.005936</td>\n",
       "      <td>0.206594</td>\n",
       "      <td>0.006026</td>\n",
       "      <td>0.005952</td>\n",
       "      <td>0.040546</td>\n",
       "      <td>0.135074</td>\n",
       "      <td>0.006211</td>\n",
       "      <td>0.005926</td>\n",
       "      <td>0.581695</td>\n",
       "    </tr>\n",
       "    <tr>\n",
       "      <th>4</th>\n",
       "      <td>0.007920</td>\n",
       "      <td>0.007817</td>\n",
       "      <td>0.204462</td>\n",
       "      <td>0.007905</td>\n",
       "      <td>0.007833</td>\n",
       "      <td>0.041735</td>\n",
       "      <td>0.134373</td>\n",
       "      <td>0.008087</td>\n",
       "      <td>0.007808</td>\n",
       "      <td>0.572061</td>\n",
       "    </tr>\n",
       "    <tr>\n",
       "      <th>5</th>\n",
       "      <td>0.009761</td>\n",
       "      <td>0.009661</td>\n",
       "      <td>0.202373</td>\n",
       "      <td>0.009747</td>\n",
       "      <td>0.009676</td>\n",
       "      <td>0.042900</td>\n",
       "      <td>0.133686</td>\n",
       "      <td>0.009925</td>\n",
       "      <td>0.009651</td>\n",
       "      <td>0.562620</td>\n",
       "    </tr>\n",
       "    <tr>\n",
       "      <th>6</th>\n",
       "      <td>0.011566</td>\n",
       "      <td>0.011468</td>\n",
       "      <td>0.200326</td>\n",
       "      <td>0.011552</td>\n",
       "      <td>0.011482</td>\n",
       "      <td>0.044042</td>\n",
       "      <td>0.133012</td>\n",
       "      <td>0.011727</td>\n",
       "      <td>0.011458</td>\n",
       "      <td>0.553367</td>\n",
       "    </tr>\n",
       "    <tr>\n",
       "      <th>7</th>\n",
       "      <td>0.013335</td>\n",
       "      <td>0.013238</td>\n",
       "      <td>0.198319</td>\n",
       "      <td>0.013321</td>\n",
       "      <td>0.013253</td>\n",
       "      <td>0.045161</td>\n",
       "      <td>0.132352</td>\n",
       "      <td>0.013492</td>\n",
       "      <td>0.013229</td>\n",
       "      <td>0.544300</td>\n",
       "    </tr>\n",
       "    <tr>\n",
       "      <th>8</th>\n",
       "      <td>0.015068</td>\n",
       "      <td>0.014974</td>\n",
       "      <td>0.196353</td>\n",
       "      <td>0.015055</td>\n",
       "      <td>0.014988</td>\n",
       "      <td>0.046258</td>\n",
       "      <td>0.131705</td>\n",
       "      <td>0.015222</td>\n",
       "      <td>0.014965</td>\n",
       "      <td>0.535414</td>\n",
       "    </tr>\n",
       "    <tr>\n",
       "      <th>9</th>\n",
       "      <td>0.016767</td>\n",
       "      <td>0.016674</td>\n",
       "      <td>0.194426</td>\n",
       "      <td>0.016754</td>\n",
       "      <td>0.016688</td>\n",
       "      <td>0.047333</td>\n",
       "      <td>0.131070</td>\n",
       "      <td>0.016918</td>\n",
       "      <td>0.016665</td>\n",
       "      <td>0.526706</td>\n",
       "    </tr>\n",
       "    <tr>\n",
       "      <th>10</th>\n",
       "      <td>0.018431</td>\n",
       "      <td>0.018341</td>\n",
       "      <td>0.192537</td>\n",
       "      <td>0.018418</td>\n",
       "      <td>0.018354</td>\n",
       "      <td>0.048386</td>\n",
       "      <td>0.130449</td>\n",
       "      <td>0.018580</td>\n",
       "      <td>0.018332</td>\n",
       "      <td>0.518172</td>\n",
       "    </tr>\n",
       "    <tr>\n",
       "      <th>11</th>\n",
       "      <td>0.020063</td>\n",
       "      <td>0.019974</td>\n",
       "      <td>0.190686</td>\n",
       "      <td>0.020050</td>\n",
       "      <td>0.019987</td>\n",
       "      <td>0.049418</td>\n",
       "      <td>0.129840</td>\n",
       "      <td>0.020208</td>\n",
       "      <td>0.019965</td>\n",
       "      <td>0.509808</td>\n",
       "    </tr>\n",
       "    <tr>\n",
       "      <th>12</th>\n",
       "      <td>0.021661</td>\n",
       "      <td>0.021574</td>\n",
       "      <td>0.188873</td>\n",
       "      <td>0.021649</td>\n",
       "      <td>0.021587</td>\n",
       "      <td>0.050430</td>\n",
       "      <td>0.129243</td>\n",
       "      <td>0.021804</td>\n",
       "      <td>0.021566</td>\n",
       "      <td>0.501612</td>\n",
       "    </tr>\n",
       "    <tr>\n",
       "      <th>13</th>\n",
       "      <td>0.023228</td>\n",
       "      <td>0.023143</td>\n",
       "      <td>0.187095</td>\n",
       "      <td>0.023216</td>\n",
       "      <td>0.023156</td>\n",
       "      <td>0.051421</td>\n",
       "      <td>0.128658</td>\n",
       "      <td>0.023368</td>\n",
       "      <td>0.023135</td>\n",
       "      <td>0.493580</td>\n",
       "    </tr>\n",
       "    <tr>\n",
       "      <th>14</th>\n",
       "      <td>0.024764</td>\n",
       "      <td>0.024680</td>\n",
       "      <td>0.185353</td>\n",
       "      <td>0.024752</td>\n",
       "      <td>0.024692</td>\n",
       "      <td>0.052393</td>\n",
       "      <td>0.128085</td>\n",
       "      <td>0.024900</td>\n",
       "      <td>0.024672</td>\n",
       "      <td>0.485708</td>\n",
       "    </tr>\n",
       "    <tr>\n",
       "      <th>15</th>\n",
       "      <td>0.026268</td>\n",
       "      <td>0.026186</td>\n",
       "      <td>0.183646</td>\n",
       "      <td>0.026257</td>\n",
       "      <td>0.026199</td>\n",
       "      <td>0.053345</td>\n",
       "      <td>0.127524</td>\n",
       "      <td>0.026402</td>\n",
       "      <td>0.026179</td>\n",
       "      <td>0.477994</td>\n",
       "    </tr>\n",
       "    <tr>\n",
       "      <th>16</th>\n",
       "      <td>0.027743</td>\n",
       "      <td>0.027663</td>\n",
       "      <td>0.181973</td>\n",
       "      <td>0.027732</td>\n",
       "      <td>0.027675</td>\n",
       "      <td>0.054278</td>\n",
       "      <td>0.126973</td>\n",
       "      <td>0.027874</td>\n",
       "      <td>0.027655</td>\n",
       "      <td>0.470434</td>\n",
       "    </tr>\n",
       "    <tr>\n",
       "      <th>17</th>\n",
       "      <td>0.029188</td>\n",
       "      <td>0.029109</td>\n",
       "      <td>0.180334</td>\n",
       "      <td>0.029177</td>\n",
       "      <td>0.029121</td>\n",
       "      <td>0.055193</td>\n",
       "      <td>0.126434</td>\n",
       "      <td>0.029317</td>\n",
       "      <td>0.029102</td>\n",
       "      <td>0.463025</td>\n",
       "    </tr>\n",
       "    <tr>\n",
       "      <th>18</th>\n",
       "      <td>0.030604</td>\n",
       "      <td>0.030527</td>\n",
       "      <td>0.178727</td>\n",
       "      <td>0.030593</td>\n",
       "      <td>0.030539</td>\n",
       "      <td>0.056089</td>\n",
       "      <td>0.125905</td>\n",
       "      <td>0.030731</td>\n",
       "      <td>0.030520</td>\n",
       "      <td>0.455765</td>\n",
       "    </tr>\n",
       "    <tr>\n",
       "      <th>19</th>\n",
       "      <td>0.031992</td>\n",
       "      <td>0.031917</td>\n",
       "      <td>0.177153</td>\n",
       "      <td>0.031982</td>\n",
       "      <td>0.031928</td>\n",
       "      <td>0.056967</td>\n",
       "      <td>0.125387</td>\n",
       "      <td>0.032116</td>\n",
       "      <td>0.031910</td>\n",
       "      <td>0.448650</td>\n",
       "    </tr>\n",
       "    <tr>\n",
       "      <th>20</th>\n",
       "      <td>0.033352</td>\n",
       "      <td>0.033278</td>\n",
       "      <td>0.175610</td>\n",
       "      <td>0.033342</td>\n",
       "      <td>0.033289</td>\n",
       "      <td>0.057828</td>\n",
       "      <td>0.124879</td>\n",
       "      <td>0.033474</td>\n",
       "      <td>0.033271</td>\n",
       "      <td>0.441677</td>\n",
       "    </tr>\n",
       "    <tr>\n",
       "      <th>21</th>\n",
       "      <td>0.034685</td>\n",
       "      <td>0.034613</td>\n",
       "      <td>0.174097</td>\n",
       "      <td>0.034675</td>\n",
       "      <td>0.034624</td>\n",
       "      <td>0.058671</td>\n",
       "      <td>0.124382</td>\n",
       "      <td>0.034804</td>\n",
       "      <td>0.034606</td>\n",
       "      <td>0.434843</td>\n",
       "    </tr>\n",
       "    <tr>\n",
       "      <th>22</th>\n",
       "      <td>0.035992</td>\n",
       "      <td>0.035920</td>\n",
       "      <td>0.172615</td>\n",
       "      <td>0.035982</td>\n",
       "      <td>0.035931</td>\n",
       "      <td>0.059498</td>\n",
       "      <td>0.123894</td>\n",
       "      <td>0.036108</td>\n",
       "      <td>0.035914</td>\n",
       "      <td>0.428146</td>\n",
       "    </tr>\n",
       "    <tr>\n",
       "      <th>23</th>\n",
       "      <td>0.037272</td>\n",
       "      <td>0.037202</td>\n",
       "      <td>0.171163</td>\n",
       "      <td>0.037262</td>\n",
       "      <td>0.037212</td>\n",
       "      <td>0.060308</td>\n",
       "      <td>0.123416</td>\n",
       "      <td>0.037386</td>\n",
       "      <td>0.037195</td>\n",
       "      <td>0.421583</td>\n",
       "    </tr>\n",
       "    <tr>\n",
       "      <th>24</th>\n",
       "      <td>0.038526</td>\n",
       "      <td>0.038458</td>\n",
       "      <td>0.169740</td>\n",
       "      <td>0.038517</td>\n",
       "      <td>0.038468</td>\n",
       "      <td>0.061102</td>\n",
       "      <td>0.122948</td>\n",
       "      <td>0.038638</td>\n",
       "      <td>0.038452</td>\n",
       "      <td>0.415152</td>\n",
       "    </tr>\n",
       "    <tr>\n",
       "      <th>25</th>\n",
       "      <td>0.039756</td>\n",
       "      <td>0.039689</td>\n",
       "      <td>0.168345</td>\n",
       "      <td>0.039746</td>\n",
       "      <td>0.039699</td>\n",
       "      <td>0.061880</td>\n",
       "      <td>0.122489</td>\n",
       "      <td>0.039865</td>\n",
       "      <td>0.039683</td>\n",
       "      <td>0.408849</td>\n",
       "    </tr>\n",
       "  </tbody>\n",
       "</table>\n",
       "</div>"
      ],
      "text/plain": [
       "     Member1   Member2   Member3   Member4   Member5   Member6   Member7  \\\n",
       "0   0.000170  0.000059  0.213254  0.000154  0.000075  0.036831  0.137266   \n",
       "1   0.002166  0.002057  0.210989  0.002151  0.002074  0.038094  0.136521   \n",
       "2   0.004123  0.004016  0.208770  0.004108  0.004032  0.039332  0.135790   \n",
       "3   0.006040  0.005936  0.206594  0.006026  0.005952  0.040546  0.135074   \n",
       "4   0.007920  0.007817  0.204462  0.007905  0.007833  0.041735  0.134373   \n",
       "5   0.009761  0.009661  0.202373  0.009747  0.009676  0.042900  0.133686   \n",
       "6   0.011566  0.011468  0.200326  0.011552  0.011482  0.044042  0.133012   \n",
       "7   0.013335  0.013238  0.198319  0.013321  0.013253  0.045161  0.132352   \n",
       "8   0.015068  0.014974  0.196353  0.015055  0.014988  0.046258  0.131705   \n",
       "9   0.016767  0.016674  0.194426  0.016754  0.016688  0.047333  0.131070   \n",
       "10  0.018431  0.018341  0.192537  0.018418  0.018354  0.048386  0.130449   \n",
       "11  0.020063  0.019974  0.190686  0.020050  0.019987  0.049418  0.129840   \n",
       "12  0.021661  0.021574  0.188873  0.021649  0.021587  0.050430  0.129243   \n",
       "13  0.023228  0.023143  0.187095  0.023216  0.023156  0.051421  0.128658   \n",
       "14  0.024764  0.024680  0.185353  0.024752  0.024692  0.052393  0.128085   \n",
       "15  0.026268  0.026186  0.183646  0.026257  0.026199  0.053345  0.127524   \n",
       "16  0.027743  0.027663  0.181973  0.027732  0.027675  0.054278  0.126973   \n",
       "17  0.029188  0.029109  0.180334  0.029177  0.029121  0.055193  0.126434   \n",
       "18  0.030604  0.030527  0.178727  0.030593  0.030539  0.056089  0.125905   \n",
       "19  0.031992  0.031917  0.177153  0.031982  0.031928  0.056967  0.125387   \n",
       "20  0.033352  0.033278  0.175610  0.033342  0.033289  0.057828  0.124879   \n",
       "21  0.034685  0.034613  0.174097  0.034675  0.034624  0.058671  0.124382   \n",
       "22  0.035992  0.035920  0.172615  0.035982  0.035931  0.059498  0.123894   \n",
       "23  0.037272  0.037202  0.171163  0.037262  0.037212  0.060308  0.123416   \n",
       "24  0.038526  0.038458  0.169740  0.038517  0.038468  0.061102  0.122948   \n",
       "25  0.039756  0.039689  0.168345  0.039746  0.039699  0.061880  0.122489   \n",
       "\n",
       "     Member8   Member9  Member10  \n",
       "0   0.000351  0.000048  0.611792  \n",
       "1   0.002344  0.002047  0.601556  \n",
       "2   0.004297  0.004006  0.591525  \n",
       "3   0.006211  0.005926  0.581695  \n",
       "4   0.008087  0.007808  0.572061  \n",
       "5   0.009925  0.009651  0.562620  \n",
       "6   0.011727  0.011458  0.553367  \n",
       "7   0.013492  0.013229  0.544300  \n",
       "8   0.015222  0.014965  0.535414  \n",
       "9   0.016918  0.016665  0.526706  \n",
       "10  0.018580  0.018332  0.518172  \n",
       "11  0.020208  0.019965  0.509808  \n",
       "12  0.021804  0.021566  0.501612  \n",
       "13  0.023368  0.023135  0.493580  \n",
       "14  0.024900  0.024672  0.485708  \n",
       "15  0.026402  0.026179  0.477994  \n",
       "16  0.027874  0.027655  0.470434  \n",
       "17  0.029317  0.029102  0.463025  \n",
       "18  0.030731  0.030520  0.455765  \n",
       "19  0.032116  0.031910  0.448650  \n",
       "20  0.033474  0.033271  0.441677  \n",
       "21  0.034804  0.034606  0.434843  \n",
       "22  0.036108  0.035914  0.428146  \n",
       "23  0.037386  0.037195  0.421583  \n",
       "24  0.038638  0.038452  0.415152  \n",
       "25  0.039865  0.039683  0.408849  "
      ]
     },
     "execution_count": 20,
     "metadata": {},
     "output_type": "execute_result"
    }
   ],
   "source": [
    "df"
   ]
  },
  {
   "cell_type": "code",
   "execution_count": 21,
   "metadata": {},
   "outputs": [
    {
     "data": {
      "text/plain": [
       "0     1.0\n",
       "1     1.0\n",
       "2     1.0\n",
       "3     1.0\n",
       "4     1.0\n",
       "5     1.0\n",
       "6     1.0\n",
       "7     1.0\n",
       "8     1.0\n",
       "9     1.0\n",
       "10    1.0\n",
       "11    1.0\n",
       "12    1.0\n",
       "13    1.0\n",
       "14    1.0\n",
       "15    1.0\n",
       "16    1.0\n",
       "17    1.0\n",
       "18    1.0\n",
       "19    1.0\n",
       "20    1.0\n",
       "21    1.0\n",
       "22    1.0\n",
       "23    1.0\n",
       "24    1.0\n",
       "25    1.0\n",
       "dtype: float64"
      ]
     },
     "execution_count": 21,
     "metadata": {},
     "output_type": "execute_result"
    }
   ],
   "source": [
    "#check that the row sums add up to 1\n",
    "df.T.sum()"
   ]
  },
  {
   "cell_type": "code",
   "execution_count": 22,
   "metadata": {},
   "outputs": [
    {
     "data": {
      "text/plain": [
       "<AxesSubplot:>"
      ]
     },
     "execution_count": 22,
     "metadata": {},
     "output_type": "execute_result"
    },
    {
     "data": {
      "image/png": "[encoded data removed]",
      "text/plain": [
       "<Figure size 432x288 with 1 Axes>"
      ]
     },
     "metadata": {
      "needs_background": "light"
     },
     "output_type": "display_data"
    }
   ],
   "source": [
    "df.plot()"
   ]
  },
  {
   "cell_type": "code",
   "execution_count": 25,
   "metadata": {},
   "outputs": [
    {
     "data": {
      "text/plain": [
       "array([1.69602781e-04, 5.85839130e-05, 2.13254422e-01, 1.53882328e-04,\n",
       "       7.51512204e-05, 3.68307314e-02, 1.37266025e-01, 3.51175843e-04,\n",
       "       4.80973148e-05, 6.11792329e-01])"
      ]
     },
     "execution_count": 25,
     "metadata": {},
     "output_type": "execute_result"
    }
   ],
   "source": [
    "df.iloc[0].values"
   ]
  },
  {
   "cell_type": "code",
   "execution_count": 27,
   "metadata": {},
   "outputs": [
    {
     "data": {
      "text/plain": [
       "([<matplotlib.patches.Wedge at 0x7f8b413fefe0>,\n",
       "  <matplotlib.patches.Wedge at 0x7f8b413ff3a0>,\n",
       "  <matplotlib.patches.Wedge at 0x7f8b413ff880>,\n",
       "  <matplotlib.patches.Wedge at 0x7f8b413ffd60>,\n",
       "  <matplotlib.patches.Wedge at 0x7f8b4143c280>,\n",
       "  <matplotlib.patches.Wedge at 0x7f8b4143c760>,\n",
       "  <matplotlib.patches.Wedge at 0x7f8b4143cc40>,\n",
       "  <matplotlib.patches.Wedge at 0x7f8b4143d120>,\n",
       "  <matplotlib.patches.Wedge at 0x7f8b4143d600>,\n",
       "  <matplotlib.patches.Wedge at 0x7f8b4143dae0>],\n",
       " [Text(1.0999998438549088, 0.0005861050898981632, ''),\n",
       "  Text(1.0999991410479346, 0.0013746613423689178, ''),\n",
       "  Text(0.8612519626523427, 0.6842843391657358, ''),\n",
       "  Text(0.24966351720303248, 1.0712927369201246, ''),\n",
       "  Text(0.24889262526201458, 1.0714721000054936, ''),\n",
       "  Text(0.1232697788196029, 1.0930711603686956, ''),\n",
       "  Text(-0.46319405204049885, 0.9977230428101297, ''),\n",
       "  Text(-0.8386151402298115, 0.7118459430082703, ''),\n",
       "  Text(-0.8395073867835356, 0.7107934633463361, ''),\n",
       "  Text(-0.37843345330689193, -1.0328543563437298, '')])"
      ]
     },
     "execution_count": 27,
     "metadata": {},
     "output_type": "execute_result"
    },
    {
     "data": {
      "image/png": "[encoded data removed]",
      "text/plain": [
       "<Figure size 432x288 with 1 Axes>"
      ]
     },
     "metadata": {},
     "output_type": "display_data"
    }
   ],
   "source": [
    "plt.pie(df.iloc[0].values)"
   ]
  },
  {
   "cell_type": "code",
   "execution_count": 28,
   "metadata": {},
   "outputs": [
    {
     "data": {
      "text/plain": [
       "([<matplotlib.patches.Wedge at 0x7f8b41488370>,\n",
       "  <matplotlib.patches.Wedge at 0x7f8b41488730>,\n",
       "  <matplotlib.patches.Wedge at 0x7f8b41488c10>,\n",
       "  <matplotlib.patches.Wedge at 0x7f8b414890f0>,\n",
       "  <matplotlib.patches.Wedge at 0x7f8b414895d0>,\n",
       "  <matplotlib.patches.Wedge at 0x7f8b41489ab0>,\n",
       "  <matplotlib.patches.Wedge at 0x7f8b41489f90>,\n",
       "  <matplotlib.patches.Wedge at 0x7f8b4148a470>,\n",
       "  <matplotlib.patches.Wedge at 0x7f8b4148a950>,\n",
       "  <matplotlib.patches.Wedge at 0x7f8b4148ae30>],\n",
       " [Text(1.0994828252241744, 0.033727096481432614, ''),\n",
       "  Text(1.0953801491764623, 0.10070912962662115, ''),\n",
       "  Text(0.7989801124239068, 0.7560626825542187, ''),\n",
       "  Text(0.1606778355603916, 1.0882015590687362, ''),\n",
       "  Text(0.09401930917960775, 1.0959746208290544, ''),\n",
       "  Text(-0.08746246261239891, 1.096517358564731, ''),\n",
       "  Text(-0.6519240219620374, 0.8859994749371137, ''),\n",
       "  Text(-0.9730017253094966, 0.5130961338236171, ''),\n",
       "  Text(-1.002698747217598, 0.4523220338743841, ''),\n",
       "  Text(-0.21500511722633434, -1.078783017833749, '')])"
      ]
     },
     "execution_count": 28,
     "metadata": {},
     "output_type": "execute_result"
    },
    {
     "data": {
      "image/png": "[encoded data removed]",
      "text/plain": [
       "<Figure size 432x288 with 1 Axes>"
      ]
     },
     "metadata": {},
     "output_type": "display_data"
    }
   ],
   "source": [
    "plt.pie(df.iloc[5].values)"
   ]
  },
  {
   "cell_type": "code",
   "execution_count": 29,
   "metadata": {},
   "outputs": [
    {
     "data": {
      "text/plain": [
       "([<matplotlib.patches.Wedge at 0x7f8b2060bc40>,\n",
       "  <matplotlib.patches.Wedge at 0x7f8b20634160>,\n",
       "  <matplotlib.patches.Wedge at 0x7f8b20634640>,\n",
       "  <matplotlib.patches.Wedge at 0x7f8b20634b20>,\n",
       "  <matplotlib.patches.Wedge at 0x7f8b20635000>,\n",
       "  <matplotlib.patches.Wedge at 0x7f8b20635510>,\n",
       "  <matplotlib.patches.Wedge at 0x7f8b206359f0>,\n",
       "  <matplotlib.patches.Wedge at 0x7f8b20635e70>,\n",
       "  <matplotlib.patches.Wedge at 0x7f8b20636350>,\n",
       "  <matplotlib.patches.Wedge at 0x7f8b20636830>],\n",
       " [Text(1.0981564587351356, 0.06365840194590933, ''),\n",
       "  Text(1.083499320439222, 0.18981365232180897, ''),\n",
       "  Text(0.7375467960472177, 0.816103378035212, ''),\n",
       "  Text(0.07928753413540021, 1.0971387728681947, ''),\n",
       "  Text(-0.04770557918906001, 1.0989650484497842, ''),\n",
       "  Text(-0.27539691235677394, 1.0649678589818359, ''),\n",
       "  Text(-0.8004077507928156, 0.754551146358407, ''),\n",
       "  Text(-1.0547799935179019, 0.31215247119696965, ''),\n",
       "  Text(-1.0838126743186156, 0.18801618809647913, ''),\n",
       "  Text(-0.06276233862431811, -1.0982080353240942, '')])"
      ]
     },
     "execution_count": 29,
     "metadata": {},
     "output_type": "execute_result"
    },
    {
     "data": {
      "image/png": "[encoded data removed]",
      "text/plain": [
       "<Figure size 432x288 with 1 Axes>"
      ]
     },
     "metadata": {},
     "output_type": "display_data"
    }
   ],
   "source": [
    "plt.pie(df.iloc[10].values)"
   ]
  },
  {
   "cell_type": "code",
   "execution_count": 30,
   "metadata": {},
   "outputs": [
    {
     "data": {
      "text/plain": [
       "([<matplotlib.patches.Wedge at 0x7f8b20745270>,\n",
       "  <matplotlib.patches.Wedge at 0x7f8b20745750>,\n",
       "  <matplotlib.patches.Wedge at 0x7f8b20745c30>,\n",
       "  <matplotlib.patches.Wedge at 0x7f8b20746110>,\n",
       "  <matplotlib.patches.Wedge at 0x7f8b207465f0>,\n",
       "  <matplotlib.patches.Wedge at 0x7f8b20746ad0>,\n",
       "  <matplotlib.patches.Wedge at 0x7f8b20746fb0>,\n",
       "  <matplotlib.patches.Wedge at 0x7f8b207476a0>,\n",
       "  <matplotlib.patches.Wedge at 0x7f8b20747b80>,\n",
       "  <matplotlib.patches.Wedge at 0x7f8b207473a0>],\n",
       " [Text(1.0962564670623514, 0.09067391258775663, ''),\n",
       "  Text(1.0665303121756569, 0.26928255274060375, ''),\n",
       "  Text(0.6781347428382033, 0.8661023441578737, ''),\n",
       "  Text(0.0053266763244184424, 1.099987102887727, ''),\n",
       "  Text(-0.17519664807903948, 1.0859586246730901, ''),\n",
       "  Text(-0.4383137058074105, 1.0089009343346724, ''),\n",
       "  Text(-0.9123570146108086, 0.6144954661268486, ''),\n",
       "  Text(-1.093452393461554, 0.11984099145617418, ''),\n",
       "  Text(-1.0982740946329603, -0.06159556037696011, ''),\n",
       "  Text(0.07598673068590435, -1.0973723236712634, '')])"
      ]
     },
     "execution_count": 30,
     "metadata": {},
     "output_type": "execute_result"
    },
    {
     "data": {
      "image/png": "[encoded data removed]",
      "text/plain": [
       "<Figure size 432x288 with 1 Axes>"
      ]
     },
     "metadata": {},
     "output_type": "display_data"
    }
   ],
   "source": [
    "plt.pie(df.iloc[15].values)"
   ]
  },
  {
   "cell_type": "code",
   "execution_count": 31,
   "metadata": {},
   "outputs": [
    {
     "data": {
      "text/plain": [
       "([<matplotlib.patches.Wedge at 0x7f8b207ea7a0>,\n",
       "  <matplotlib.patches.Wedge at 0x7f8b207eac80>,\n",
       "  <matplotlib.patches.Wedge at 0x7f8b207eb160>,\n",
       "  <matplotlib.patches.Wedge at 0x7f8b207eb640>,\n",
       "  <matplotlib.patches.Wedge at 0x7f8b207ebac0>,\n",
       "  <matplotlib.patches.Wedge at 0x7f8ba0c5c160>,\n",
       "  <matplotlib.patches.Wedge at 0x7f8ba0c5c640>,\n",
       "  <matplotlib.patches.Wedge at 0x7f8ba0c5cb50>,\n",
       "  <matplotlib.patches.Wedge at 0x7f8ba0c5d030>,\n",
       "  <matplotlib.patches.Wedge at 0x7f8ba0c5d510>],\n",
       " [Text(1.093967184424818, 0.11504694433854623, ''),\n",
       "  Text(1.0461801343362924, 0.33986339391010806, ''),\n",
       "  Text(0.6215145806130574, 0.9075900099083152, ''),\n",
       "  Text(-0.06155810529975154, 1.098276194621328, ''),\n",
       "  Text(-0.28843946585087726, 1.061509620559164, ''),\n",
       "  Text(-0.5764297082990112, 0.9368718116104877, ''),\n",
       "  Text(-0.9927610309630653, 0.4737357231634024, ''),\n",
       "  Text(-1.098499032229925, -0.057444548826831324, ''),\n",
       "  Text(-1.0624807663331843, -0.2848413965210282, ''),\n",
       "  Text(0.20042521834770818, -1.0815866732954293, '')])"
      ]
     },
     "execution_count": 31,
     "metadata": {},
     "output_type": "execute_result"
    },
    {
     "data": {
      "image/png": "[encoded data removed]",
      "text/plain": [
       "<Figure size 432x288 with 1 Axes>"
      ]
     },
     "metadata": {},
     "output_type": "display_data"
    }
   ],
   "source": [
    "plt.pie(df.iloc[20].values)"
   ]
  },
  {
   "cell_type": "code",
   "execution_count": 32,
   "metadata": {},
   "outputs": [
    {
     "data": {
      "text/plain": [
       "([<matplotlib.patches.Wedge at 0x7f8ba0c8fe20>,\n",
       "  <matplotlib.patches.Wedge at 0x7f8b413e1840>,\n",
       "  <matplotlib.patches.Wedge at 0x7f8b413e0430>,\n",
       "  <matplotlib.patches.Wedge at 0x7f8b413e0910>,\n",
       "  <matplotlib.patches.Wedge at 0x7f8b413e0df0>,\n",
       "  <matplotlib.patches.Wedge at 0x7f8b7034c190>,\n",
       "  <matplotlib.patches.Wedge at 0x7f8b7034c670>,\n",
       "  <matplotlib.patches.Wedge at 0x7f8b7034cb50>,\n",
       "  <matplotlib.patches.Wedge at 0x7f8b7034d000>,\n",
       "  <matplotlib.patches.Wedge at 0x7f8b7034d4e0>],\n",
       " [Text(1.0914315851271985, 0.13702954056235755, ''),\n",
       "  Text(1.0237678174019427, 0.40236731484063504, ''),\n",
       "  Text(0.5681501348857234, 0.941915826509638, ''),\n",
       "  Text(-0.12182746422254541, 1.0932328521230528, ''),\n",
       "  Text(-0.38808281855463483, 1.0292675677114724, ''),\n",
       "  Text(-0.6914008902311606, 0.8555494193718787, ''),\n",
       "  Text(-1.0469262754559612, 0.3375579561496204, ''),\n",
       "  Text(-1.0784762944457569, -0.2165384084141878, ''),\n",
       "  Text(-0.9914207421161949, -0.4765342716969826, ''),\n",
       "  Text(0.31070906964110073, -1.0552060813143382, '')])"
      ]
     },
     "execution_count": 32,
     "metadata": {},
     "output_type": "execute_result"
    },
    {
     "data": {
      "image/png": "[encoded data removed]",
      "text/plain": [
       "<Figure size 432x288 with 1 Axes>"
      ]
     },
     "metadata": {},
     "output_type": "display_data"
    }
   ],
   "source": [
    "plt.pie(df.iloc[25].values)"
   ]
  },
  {
   "cell_type": "markdown",
   "metadata": {},
   "source": [
    "the above demonstrates roughly how equity diffuses towards the contribution vector. Note that to understant this fully its worth running variations where the contribution vector is, lumpy, randomized with different distributions, and generally see how the process filters the noise of the contribution vector over time.\n",
    "\n",
    "Its also possible to extend the model to include interactions with actions of addition of new capital as well as rage quits. Increasing the complexity of the model would merit shifting to a package (such as cadCAD) for repeated controlled experiments over multiple interacting mechanisms"
   ]
  },
  {
   "cell_type": "markdown",
   "metadata": {},
   "source": []
  }
 ],
 "metadata": {
  "kernelspec": {
   "display_name": "Python 3.10.4 ('py10')",
   "language": "python",
   "name": "python3"
  },
  "language_info": {
   "codemirror_mode": {
    "name": "ipython",
    "version": 3
   },
   "file_extension": ".py",
   "mimetype": "text/x-python",
   "name": "python",
   "nbconvert_exporter": "python",
   "pygments_lexer": "ipython3",
   "version": "3.10.4"
  },
  "orig_nbformat": 4,
  "vscode": {
   "interpreter": {
    "hash": "1a8de16e480ce6c374d7a7a0f904964a05926e5b58eea6a17940b28a68c7d599"
   }
  }
 },
 "nbformat": 4,
 "nbformat_minor": 2
}
